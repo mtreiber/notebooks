{
 "cells": [
  {
   "cell_type": "code",
   "execution_count": 40,
   "metadata": {},
   "outputs": [
    {
     "name": "stdout",
     "output_type": "stream",
     "text": [
      "The autoreload extension is already loaded. To reload it, use:\n",
      "  %reload_ext autoreload\n"
     ]
    }
   ],
   "source": [
    "%load_ext autoreload\n",
    "%autoreload 2\n",
    "\n",
    "import gdal\n",
    "import math\n",
    "wmts_drv = gdal.GetDriverByName('WMTS')\n",
    "if wmts_drv is None:\n",
    "    print('Missing WMS driver')"
   ]
  },
  {
   "cell_type": "code",
   "execution_count": 9,
   "metadata": {},
   "outputs": [
    {
     "name": "stdout",
     "output_type": "stream",
     "text": [
      "('WMTS:https://tiles.maps.eox.at/wmts/1.0.0/WMTSCapabilities.xml,layer=overlay_bright', 'Layer Bright overlay layer by EOX')\n",
      "('WMTS:https://tiles.maps.eox.at/wmts/1.0.0/WMTSCapabilities.xml,layer=overlay', 'Layer Overlay layer by EOX')\n",
      "('WMTS:https://tiles.maps.eox.at/wmts/1.0.0/WMTSCapabilities.xml,layer=coastline', 'Layer Coastline overlay layer by EOX')\n",
      "('WMTS:https://tiles.maps.eox.at/wmts/1.0.0/WMTSCapabilities.xml,layer=osm_3857', 'Layer OpenStreetMap background layer by EOX')\n",
      "('WMTS:https://tiles.maps.eox.at/wmts/1.0.0/WMTSCapabilities.xml,layer=blackmarble_3857', 'Layer Black marble background layer by EOX')\n",
      "('WMTS:https://tiles.maps.eox.at/wmts/1.0.0/WMTSCapabilities.xml,layer=s2cloudless_3857,tilematrixset=g', 'Layer Sentinel-2 cloudless layer by EOX, tile matrix set g')\n",
      "('WMTS:https://tiles.maps.eox.at/wmts/1.0.0/WMTSCapabilities.xml,layer=s2cloudless_3857,tilematrixset=GoogleMapsCompatible', 'Layer Sentinel-2 cloudless layer by EOX, tile matrix set GoogleMapsCompatible')\n",
      "('WMTS:https://tiles.maps.eox.at/wmts/1.0.0/WMTSCapabilities.xml,layer=terrain_3857', 'Layer Terrain background layer by EOX')\n",
      "('WMTS:https://tiles.maps.eox.at/wmts/1.0.0/WMTSCapabilities.xml,layer=osm', 'Layer OpenStreetMap background layer by EOX')\n",
      "('WMTS:https://tiles.maps.eox.at/wmts/1.0.0/WMTSCapabilities.xml,layer=blackmarble', 'Layer Black marble background layer by EOX')\n",
      "('WMTS:https://tiles.maps.eox.at/wmts/1.0.0/WMTSCapabilities.xml,layer=terrain-light_3857,tilematrixset=g', 'Layer Terrain Light background layer by EOX, tile matrix set g')\n",
      "('WMTS:https://tiles.maps.eox.at/wmts/1.0.0/WMTSCapabilities.xml,layer=terrain-light_3857,tilematrixset=GoogleMapsCompatible', 'Layer Terrain Light background layer by EOX, tile matrix set GoogleMapsCompatible')\n",
      "('WMTS:https://tiles.maps.eox.at/wmts/1.0.0/WMTSCapabilities.xml,layer=bluemarble_3857', 'Layer Blue marble background layer by EOX')\n",
      "('WMTS:https://tiles.maps.eox.at/wmts/1.0.0/WMTSCapabilities.xml,layer=overlay_base_bright_3857', 'Layer Bright base overlay layer by EOX')\n",
      "('WMTS:https://tiles.maps.eox.at/wmts/1.0.0/WMTSCapabilities.xml,layer=overlay_base_3857', 'Layer Base overlay layer by EOX')\n",
      "('WMTS:https://tiles.maps.eox.at/wmts/1.0.0/WMTSCapabilities.xml,layer=graticules', 'Layer Graticules overlay layer by EOX')\n",
      "('WMTS:https://tiles.maps.eox.at/wmts/1.0.0/WMTSCapabilities.xml,layer=s2cloudless', 'Layer Sentinel-2 cloudless layer by EOX')\n",
      "('WMTS:https://tiles.maps.eox.at/wmts/1.0.0/WMTSCapabilities.xml,layer=terrain', 'Layer Terrain background layer by EOX')\n",
      "('WMTS:https://tiles.maps.eox.at/wmts/1.0.0/WMTSCapabilities.xml,layer=overlay_bright_3857', 'Layer Bright overlay layer by EOX')\n",
      "('WMTS:https://tiles.maps.eox.at/wmts/1.0.0/WMTSCapabilities.xml,layer=overlay_3857', 'Layer Overlay layer by EOX')\n",
      "('WMTS:https://tiles.maps.eox.at/wmts/1.0.0/WMTSCapabilities.xml,layer=coastline_3857', 'Layer Coastline overlay layer by EOX')\n",
      "('WMTS:https://tiles.maps.eox.at/wmts/1.0.0/WMTSCapabilities.xml,layer=magnetic_graticules', 'Layer Magnetic Graticules overlay layer by EOX')\n",
      "('WMTS:https://tiles.maps.eox.at/wmts/1.0.0/WMTSCapabilities.xml,layer=terrain-light', 'Layer Terrain Light background layer by EOX')\n",
      "('WMTS:https://tiles.maps.eox.at/wmts/1.0.0/WMTSCapabilities.xml,layer=overlay_base_bright', 'Layer Bright base overlay layer by EOX')\n",
      "('WMTS:https://tiles.maps.eox.at/wmts/1.0.0/WMTSCapabilities.xml,layer=bluemarble', 'Layer Blue marble background layer by EOX')\n",
      "('WMTS:https://tiles.maps.eox.at/wmts/1.0.0/WMTSCapabilities.xml,layer=overlay_base', 'Layer Base overlay layer by EOX')\n",
      "('WMTS:https://tiles.maps.eox.at/wmts/1.0.0/WMTSCapabilities.xml,layer=coastline_black', 'Layer Black coastline overlay layer by EOX')\n"
     ]
    }
   ],
   "source": [
    "ds = gdal.Open('WMTS:https://tiles.maps.eox.at/wmts/1.0.0/WMTSCapabilities.xml')\n",
    "\n",
    "sub_ds = ds.GetSubDatasets()\n",
    "for i in sub_ds:\n",
    "    print(i)"
   ]
  },
  {
   "cell_type": "code",
   "execution_count": 53,
   "metadata": {},
   "outputs": [
    {
     "name": "stdout",
     "output_type": "stream",
     "text": [
      "{'ABSTRACT': 'Sentinel-2 cloudless layer made of Open Data and designed and provided by EOX. Contains modified Copernicus Sentinel data 2016, 2017.', 'TITLE': 'Sentinel-2 cloudless layer by EOX'}\n",
      "\n",
      "GEOGCS[\"WGS 84\",DATUM[\"WGS_1984\",SPHEROID[\"WGS 84\",6378137,298.257223563,AUTHORITY[\"EPSG\",\"7030\"]],AUTHORITY[\"EPSG\",\"6326\"]],PRIMEM[\"Greenwich\",0,AUTHORITY[\"EPSG\",\"8901\"]],UNIT[\"degree\",0.0174532925199433,AUTHORITY[\"EPSG\",\"9122\"]],AUTHORITY[\"EPSG\",\"4326\"]]\n"
     ]
    }
   ],
   "source": [
    "source_ds = gdal.Open('WMTS:https://tiles.maps.eox.at/wmts/1.0.0/WMTSCapabilities.xml,layer=s2cloudless')\n",
    "\n",
    "print(source_ds.GetMetadata())\n",
    "print('')\n",
    "print(source_ds.GetProjection())"
   ]
  },
  {
   "cell_type": "code",
   "execution_count": 52,
   "metadata": {},
   "outputs": [],
   "source": [
    "res = [600,800]\n",
    "bbox = [-74.09696070341796,40.82460012869939,-73.89165369658203,40.59089199098711]\n",
    "\n",
    "source_ds = gdal.Open('WMTS:https://tiles.maps.eox.at/wmts/1.0.0/WMTSCapabilities.xml,layer=s2cloudless')\n",
    "dest_ds = gdal.Translate('dest.tiff',source_ds,projWin=bbox,width=res[0],height=res[1])\n",
    "dest_ds = None"
   ]
  }
 ],
 "metadata": {
  "kernelspec": {
   "display_name": "Python 3",
   "language": "python",
   "name": "python3"
  },
  "language_info": {
   "codemirror_mode": {
    "name": "ipython",
    "version": 3
   },
   "file_extension": ".py",
   "mimetype": "text/x-python",
   "name": "python",
   "nbconvert_exporter": "python",
   "pygments_lexer": "ipython3",
   "version": "3.6.4"
  }
 },
 "nbformat": 4,
 "nbformat_minor": 2
}
